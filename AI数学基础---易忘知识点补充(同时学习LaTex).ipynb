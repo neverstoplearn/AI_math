{
 "cells": [
  {
   "cell_type": "markdown",
   "metadata": {
    "slideshow": {
     "slide_type": "notes"
    }
   },
   "source": [
    "# 导数公式"
   ]
  },
  {
   "cell_type": "markdown",
   "metadata": {
    "collapsed": true
   },
   "source": [
    "$$(n^x)'=n^xlnx$$\n",
    "$$(\\log_ax)'=\\frac{1}{xlna}$$\n",
    "$$(\\sqrt[n](x))'=\\frac{x^{\\frac{-(n-1)}{n}}}{n}$$\n",
    "$$(\\frac{1}{x^n})'=-\\frac{n}{x^{n+1}}$$"
   ]
  },
  {
   "cell_type": "markdown",
   "metadata": {
    "collapsed": true
   },
   "source": [
    "# 随机变量与概率分布"
   ]
  },
  {
   "cell_type": "markdown",
   "metadata": {},
   "source": [
    "设$\\Omega$是随机实验的样本空间，如果X是定义在$\\Omega$上的一个单值函数，即对于每一个e$\\in$$\\Omega$,有一实数 X = X(e)与之相对应，则称X为随机变量，随机变量通常用X,Y,Z等表示。分为离散型和连续型。"
   ]
  },
  {
   "cell_type": "markdown",
   "metadata": {},
   "source": [
    "离散型随机变量：若随机变量X取值可能为$x_1$,$x_2$.$x_3$.$x_4$,$\\ldots$,$x_n$,且取这些值的概率以此为$p_1$,$p_2$,$\\ldots$,$p_n$,则称X为离散型随机变量，而称P{X = $x_k$}=$p_k$,(k=1,2,$\\ldots$)为X的分布律或概率分布\n",
    "\n",
    "分布率的性质\n",
    "$$p_k\\geq0,k=1,2,\\ldots,n;$$\n",
    "$$\\sum_kp_k = 1;$$\n"
   ]
  },
  {
   "cell_type": "markdown",
   "metadata": {},
   "source": [
    "# 几个常见的离散型概率分布\n",
    "### 伯努利实验\n",
    "独立重复地进行了n次实验，每次实验中，事件A发生的概率均为P,则称这n次实验为n重伯努利分布\n",
    "\n",
    "### 0-1分布\n",
    "若以X表示进行一重伯努利分布实验中事件A发生的次数，则称X服从0-1分布(两点分布)其分布律为：\n",
    "$$X \\sim P\\{X = k\\}= p^k(1-p)^{(1-k)},(0 < p < 1), k = 0,1$$\n",
    "\n",
    "### 二项分布\n",
    "若以X表示n重伯努利实验中，事件A发生的次数，则称X服从参数为n,p的二项分布，记作X$\\sim$B(n,p)，其分布律为:\n",
    "$$X \\sim P\\{X = k\\} = \\left(\\begin{array}{l}{n} \\\\ {k}\\end{array}\\right)p^k(1-p)^{(n - k)},k = 0,1,2,...n$$\n",
    "0-1分布是n=1的二项分布\n",
    "\n",
    "###  几何分布\n",
    "若以X表示伯努利实验中，事件A第一次发生时所进行的实验次数，则称X服从几何分布，其分布律为：\n",
    "$$ X \\sim P\\{X = k\\} = p(1-p)^{(k-1)},k=1,2 ...$$"
   ]
  },
  {
   "cell_type": "markdown",
   "metadata": {
    "collapsed": true
   },
   "source": [
    "# 随机变量的分布函数\n",
    "设X是随机变量，对任意实数x,事件{X $\\leq$ x}的概率P{X $\\leq$ x}称为随机变量X的分布函数，记为F(x),即F(X) = P{X $\\leq$x}\n",
    "易知，对任意实数a,b(a < b)，$$P({a < X \\leq b}) = P({X \\leq b}) - P({X\\leq a}) = F(b) - F(a)$$\n",
    "\n",
    "# 连续型随机变量\n",
    "对于随机变量X,若存在非负函数f(x)，使得对于任意实数x,都有\n",
    "$$F(x)=P({X\\leq x}) = \\int_{-\\infty} ^x {f(u)} \\,{\\rm d}u$$\n",
    "则称X为连续型随机变量，f(x)为X的概率密度函数，简称概率密度或密度函数，通常记为X$\\sim$f(x)\n",
    "\n",
    "# 几个常见的连续型概率分布于\n",
    "\n",
    "### 均匀分布\n",
    "\n",
    "如$$X\\sim f(x)= \\begin{cases}\n",
    "\\frac{1}{a-b}, a < x < b \\\\\n",
    "0, other\n",
    "\\end{cases}$$\n",
    "则称X在(a,b)内服从均匀分布，记作X$\\sim$U(a,b)\n",
    "对任意的实数c,d(a < c < d < b) 都有\n",
    "$$P(c < X < d)= \\int_c ^d {\\frac{1}{b-a}} \\, {\\rm d}x = \\frac{d-c}{b-a}$$\n",
    "\n",
    "### 指数分布\n",
    "若$$X\\sim f(x)= \\begin{cases}\n",
    "\\lambda e^{-\\lambda x}, x > 0 \\\\\n",
    "0, x\\leq 0\n",
    "\\end{cases}$$\n",
    "则称X服从参数为$\\lambda$($\\lambda$>0)的指数分布\n",
    "其分布函数为\n",
    "$$F(x) = \\begin{cases}\n",
    "1 - e^{-\\lambda x},x>0 \\\\\n",
    "0, x\\leq 0\n",
    "\\end{cases}$$\n",
    "\n",
    "### 正态分布\n",
    "若$$X\\sim f(x) = \\frac{1}{\\sqrt{2\\pi}\\sigma}e^{-\\frac{(x-\\mu)^2}{2 \\sigma ^2}}$$\n",
    "其中$\\mu $为实数 $\\sigma $>0,则称X服从均值为$\\mu $,方差为$\\sigma ^2 $的正态分布 记为X $\\sim $ N($\\mu $,$\\sigma^2 $)"
   ]
  },
  {
   "cell_type": "markdown",
   "metadata": {
    "collapsed": true
   },
   "source": [
    "# 二维随机变量\n",
    "定义：将两个随机变量$X_1$,$X_2$构成一个二维向量($X_1$,$X_2$),称为二维随机变量\n",
    "### 联合分布函数\n",
    "设（X，Y)是二维随机变量，(x,y)$\\in$ $R^2$，则称F(x,y)=P{X$\\leq$x,Y$\\leq$y}为（X，Y)的分布函数，或X与Y的联合分布函数\n",
    "\n",
    "分布函数F($x_0$,$y_0$)表示随机点(X,Y)落在区域{(x,y), $-\\infty$ < x $\\leq$ $x_0$，$-\\infty$ < y < $y_0$}中的概率\n",
    "\n",
    "$$P{x_1 < X \\leq x_2, y_1 < Y \\leq y_2} = F(x_2,y_2) - F(x_1,y_2) - F(x_2, y_1) + F(x_1, y_1)$$\n",
    "\n",
    "### 二维离散型随机变量\n",
    "定义：若二维随机变量(X,Y)只能渠道至多可列个值($x_i$,$y_i$),(i,j = 1 ,2, 3...),则称(X, Y)为二维离散型随机变量\n",
    "\n",
    "### 联合分布律\n",
    "若二维离散型随机变量(X,Y)取($x_i$,$y_i$)的概率为$P_{ij}$，则称P{X=$x_i$,Y=$y_i$} = $p_ij$,(i,j = 1,2,...)为二维离散型随机变量(X,Y)的分布律，或随机变量X与Y的联合分布律。\n",
    "可记为(X,Y)$\\sim$P{X=$x_i$,Y=$y_i$}=$p_{ij}$,(i,j=1,2,...)\n",
    "\n",
    "### 二维连续型随机变量\n",
    "定义: 对于二维随机变量(X,Y) 若存在一个非负可积函数f(x,y),使对任意(x,y)$\\in$$R^2$,其分布函数为$$F(x,y) = \\int_{-\\infty} ^x \\int_{-\\infty} ^y {f(u,v)} \\,{\\rm d}u{\\rm d}v$$\n",
    "则称(X,Y)为二维连续型随机变量，f(x,y)为(X,Y)的密度函数(概率密度函数),或X与Y的联合密度函数，可记为(X,Y)$\\sim$f(x,y)，(x,y)$\\in$$R^2$\n",
    "\n",
    "# 几个常见的二维连续分布\n",
    "\n",
    "### 二维均匀分布\n",
    "若二维随机变量(X,Y)的密度函数为\n",
    "$$f(x,y) = \\begin{cases}\n",
    "\\frac{1}{S_D},(x,y)\\in D\\\\\n",
    "0, other\n",
    "\\end{cases}$$\n",
    "则称(X,Y)在区域D上服从均匀分布 其中$S_D$为区域D的面积。\n",
    "\n",
    "### 二维正态分布\n",
    "若二维随机变量(X,Y)的密度函数为:\n",
    "$$f(x,y)= \\frac{1}{2\\pi\\sigma _1\\sigma _2 \\sqrt{(1-\\rho^2)}}e^{- \\frac{1}{2(1- \\rho^2)}[\\frac{(x-\\mu _1)^2}{(\\sigma _1)^2}- 2\\rho \\frac{(x-\\mu _1)(y - \\mu_1)}{\\sigma _1 \\sigma _2} + \\frac{(y-\\mu _2) ^2}{{\\sigma _2} ^2}]}$$\n",
    "其中$\\mu_1$,$\\mu_2$为实数，$\\sigma_1$>0,$\\sigma_2$>0,则称(X,Y)服从参数为$\\mu_1$,$\\mu_2$,$\\sigma_1$,$\\sigma_2$,$\\rho$的二维正态分布，记为(X,Y)$\\sim$N($\\mu_1,\\mu_2,\\sigma _1 ^2,\\sigma _2 ^2,\\rho$)"
   ]
  },
  {
   "cell_type": "markdown",
   "metadata": {},
   "source": [
    "# 边缘分布\n",
    "定义：\n",
    "$F_x(x) = F(x,+\\infty) = \\lim_{y to +\\infty}F(x,y) = P\\{X \\leq x\\}$称为二维随机变量(X,Y)关于X的边缘分布函数\n",
    "$F_y(y) = F(+\\infty,y) = \\lim_{x to +\\infty}F(x,y) = P\\{Y \\leq y\\}$称为二维随机变量(X,Y)关于Y的边缘分布函数\n",
    "边缘分布实际上是高维随机变量的某个(些)低维分量的分布\n",
    "\n",
    "\n",
    "## 边缘分布律\n",
    "若随机变量X与Y的联合分布律(X,Y)$\\sim$P{X=$x_i$,Y=$y_i$}=$P_ij$(i,j=1,2,3...)则称P{X=$x_i$} =$p_i$ = $\\sum_jP_{ij}$,i=1,2,...为(X,Y)关于X的边缘分布律 同理Y类似\n",
    "\n",
    "## 边缘密度函数\n",
    "设(X,Y)$\\sim$f(x,y)，（x,y)$\\in$$R^2$，则称$f_x(x)=\\int_ {-\\infty} ^ {+\\infty} {f(x,y)} \\, {\\rm d}y$ 为(X,Y)关于X的边缘密度函数,y同理。"
   ]
  },
  {
   "cell_type": "markdown",
   "metadata": {},
   "source": [
    "# 离散型随机变量的条件分布律\n",
    "\n",
    "### 条件分布律\n",
    "设随机变量X与Y的联合分布律为(X,Y)$\\sim$P{X=$x_i$,Y=$y_i$}=$P_{ij}$(i,j=1,2,...),X与Y的边缘分布律分别为P{X=$x_i$}=$p_(i*)=\\sum _j p_{ij},i=1,2,...; Y同理\n",
    "\n",
    "\n",
    "若对固定的j,$p_{*j}>0$ 则称$$P_{i|j}=P\\{X=x_i|Y = y_i\\}=\\frac{p_{ij}}{p_{*j}}$$,j=1,2...为Y = $y_j$的条件下，X的分布律\n"
   ]
  },
  {
   "cell_type": "markdown",
   "metadata": {},
   "source": [
    "### 连续型随机变量的条件概率密度\n",
    "<img src=\"./1.png\", width=640, heigth=480>"
   ]
  },
  {
   "cell_type": "markdown",
   "metadata": {},
   "source": [
    "### 期望与方差\n",
    "<img src=\"./2.png\", width=640, heigth=480>\n",
    "<img src=\"./3.png\", width=640, heigth=480>\n",
    "<img src=\"./4.png\", width=640, heigth=480>\n",
    "<img src=\"./5.png\", width=640, heigth=480>\n",
    "<img src=\"./6.png\", width=640, heigth=480>\n",
    "<img src=\"./7.png\", width=640, heigth=480>\n",
    "<img src=\"./8.png\", width=640, heigth=480>\n",
    "<img src=\"./9.png\", width=640, heigth=480>\n",
    "<img src=\"./10.png\", width=640, heigth=480>"
   ]
  },
  {
   "cell_type": "markdown",
   "metadata": {},
   "source": [
    "# 信息论\n",
    "<img src=\"./11.png\", width=640, heigth=480>\n",
    "<img src=\"./12.png\", width=640, heigth=480>\n",
    "<img src=\"./13.png\", width=640, heigth=480>\n",
    "<img src=\"./14.png\", width=640, heigth=480>\n",
    "<img src=\"./16.png\", width=640, heigth=480>\n",
    "<img src=\"./17.png\", width=640, heigth=480>\n",
    "<img src=\"./18.png\", width=640, heigth=480>\n",
    "<img src=\"./19.png\", width=640, heigth=480>\n",
    "<img src=\"./20.png\", width=640, heigth=480>"
   ]
  },
  {
   "cell_type": "markdown",
   "metadata": {},
   "source": [
    "<img src=\"./21.png\", width=640, heigth=480>\n",
    "<img src=\"./22.png\", width=640, heigth=480>\n",
    "<img src=\"./23.png\", width=640, heigth=480>\n",
    "<img src=\"./24.png\", width=640, heigth=480>\n",
    "<img src=\"./25.png\", width=640, heigth=480>\n",
    "<img src=\"./26.png\", width=640, heigth=480>\n",
    "<img src=\"./27.png\", width=640, heigth=480>\n",
    "<img src=\"./28.png\", width=640, heigth=480>\n",
    "<img src=\"./29.png\", width=640, heigth=480>\n",
    "<img src=\"./30.png\", width=640, heigth=480>\n",
    "<img src=\"./31.png\", width=640, heigth=480>\n",
    "<img src=\"./32.png\", width=640, heigth=480>\n",
    "<img src=\"./33.png\", width=640, heigth=480>\n",
    "<img src=\"./34.png\", width=640, heigth=480>\n",
    "<img src=\"./35.png\", width=640, heigth=480>\n",
    "<img src=\"./36.png\", width=640, heigth=480>\n",
    "<img src=\"./37.png\", width=640, heigth=480>\n",
    "<img src=\"./38.png\", width=640, heigth=480>\n",
    "<img src=\"./39.png\", width=640, heigth=480>\n",
    "<img src=\"./40.png\", width=640, heigth=480>\n",
    "<img src=\"./41.png\", width=640, heigth=480>\n",
    "<img src=\"./42.png\", width=640, heigth=480>\n",
    "<img src=\"./43.png\", width=640, heigth=480>\n",
    "<img src=\"./44.png\", width=640, heigth=480>\n",
    "<img src=\"./45.png\", width=640, heigth=480>\n",
    "<img src=\"./46.png\", width=640, heigth=480>\n",
    "<img src=\"./47.png\", width=640, heigth=480>\n",
    "<img src=\"./48.png\", width=640, heigth=480>\n",
    "<img src=\"./49.png\", width=640, heigth=480>\n",
    "<img src=\"./50.png\", width=640, heigth=480>\n",
    "<img src=\"./51.png\", width=640, heigth=480>\n",
    "<img src=\"./52.png\", width=640, heigth=480>"
   ]
  }
 ],
 "metadata": {
  "celltoolbar": "Raw Cell Format",
  "kernelspec": {
   "display_name": "Python 3",
   "language": "python",
   "name": "python3"
  },
  "language_info": {
   "codemirror_mode": {
    "name": "ipython",
    "version": 3
   },
   "file_extension": ".py",
   "mimetype": "text/x-python",
   "name": "python",
   "nbconvert_exporter": "python",
   "pygments_lexer": "ipython3",
   "version": "3.6.1"
  }
 },
 "nbformat": 4,
 "nbformat_minor": 2
}
